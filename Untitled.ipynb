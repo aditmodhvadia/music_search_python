{
 "cells": [
  {
   "cell_type": "code",
   "execution_count": 1,
   "metadata": {
    "collapsed": true
   },
   "outputs": [],
   "source": [
    "import xml.etree.ElementTree"
   ]
  },
  {
   "cell_type": "code",
   "execution_count": 34,
   "metadata": {
    "collapsed": false
   },
   "outputs": [
    {
     "name": "stdout",
     "output_type": "stream",
     "text": [
      "Select\n",
      "1. Song name\n",
      "2. Artist name\n",
      "3. Both\n",
      "1\n"
     ]
    }
   ],
   "source": [
    "e = xml.etree.ElementTree.parse('Music Library.xml').getroot()\n",
    "\n",
    "query = int(input('Select\\n1. Song name\\n2. Artist name\\n3. Both\\n'))"
   ]
  },
  {
   "cell_type": "code",
   "execution_count": 35,
   "metadata": {
    "collapsed": true
   },
   "outputs": [],
   "source": [
    "if query == 1:\n",
    "    f = open('songlist.txt', 'a')\n",
    "    f.write('Song\\n')\n",
    "    count=0\n",
    "    for i in range(1839):\n",
    "        if i%2==1:\n",
    "            flag = False\n",
    "            for child in e[0][15][i]:\n",
    "                if flag:\n",
    "                    count+=1\n",
    "                    f.write(child.text+'\\n')\n",
    "                    flag = False\n",
    "                if child.text == 'Name':\n",
    "                    flag = True\n",
    "    f.close()\n",
    "elif query == 2:\n",
    "    f = open('songlist.txt', 'a')\n",
    "    f.write('Artist\\n')\n",
    "    count=0\n",
    "    for i in range(1839):\n",
    "        if i%2==1:\n",
    "            flag = False\n",
    "            for child in e[0][15][i]:\n",
    "                if flag:\n",
    "                    count+=1\n",
    "                    f.write(child.text+'\\n')\n",
    "                    flag = False\n",
    "                if child.text == 'Artist':\n",
    "                    flag = True\n",
    "    f.close()\n",
    "else:\n",
    "    f = open('songlist.txt', 'a')\n",
    "    f.write('Song\\tArtist\\n')\n",
    "    count=0\n",
    "    for i in range(1839):\n",
    "        if i%2==1:\n",
    "            flag1, flag2 = False, False\n",
    "            for child in e[0][15][i]:\n",
    "                if flag1:\n",
    "                    count+=1\n",
    "                    song = child.text\n",
    "                    flag1 = False\n",
    "                if flag2:\n",
    "                    f.write(song+'\\t'+child.text+'\\n')\n",
    "                    flag2 = False\n",
    "                if child.text == 'Name':\n",
    "                    flag1 = True\n",
    "                if child.text == 'Artist':\n",
    "                    flag2 = True\n",
    "    f.close()"
   ]
  },
  {
   "cell_type": "code",
   "execution_count": 36,
   "metadata": {
    "collapsed": false
   },
   "outputs": [
    {
     "name": "stdout",
     "output_type": "stream",
     "text": [
      "Search a song:\n",
      "love\n"
     ]
    }
   ],
   "source": [
    "search_key = input('Search a song:\\n')"
   ]
  },
  {
   "cell_type": "code",
   "execution_count": 37,
   "metadata": {
    "collapsed": false
   },
   "outputs": [
    {
     "name": "stdout",
     "output_type": "stream",
     "text": [
      "Love Never Felt So Good\tMichael Jackson\n",
      "As Long As You Love Me\tBackstreet Boys\n",
      "Same Old Love\tSelena Gomez\n",
      "True Love\tColdplay\n",
      "Love Natural\tCrystal Fighters\n",
      "JENNIFER LOPEZ - Could This Be Love\tJENNIFER LOPEZ\n",
      "Love You Goodbye\tOne Direction\n",
      "I'm With You\tGrouplove\n",
      "Summer Love\tOne Direction\n",
      "Bye Bye Love\tBackstreet Boys\n",
      "Loved You First\tOne Direction\n",
      "Love Me Again\tJohn Newman\n",
      "Love Me Like You Do - Ellie Goulding (Love Me Like You Do)\tLove Me Like You Do - Ellie Goulding (Love Me Like You Do)\n",
      "Every Chance We Get We Run - www.SongsLover.pk\tDavid Guetta\n",
      "I Can Only Imagine - www.SongsLover.pk\tDavid Guetta\n",
      "I Need Your Love (Feat. Calvin Harris)\tEllie Goulding\n",
      " Love\tJana Kramer\n",
      "Little Bad Girl - www.SongsLover.pk\tDavid Guetta\n",
      "Love Story\tTaylor Swift\n",
      "Love You Like A Love Song\tSelena Gomez & The Scene\n",
      "She Wolf (Falling To Pieces) - www.SongsLover.pk\tDavid Guetta\n",
      "Sweat - www.SongsLover.pk\tDavid Guetta\n",
      "Titanium (Feat Sia) - www.SongsLover.pk\tDavid Guetta\n",
      "Love Somebody\tMaroon 5\n",
      "Turn Me On (Feat. Nicki Minaj) - www.SongsLover.pk\tDavid Guetta\n",
      "We Found Love\tRihanna&Calvin Harris\n",
      "Where Them Girls At - www.SongsLover.pk\tDavid Guetta\n",
      "Wild One Two - www.SongsLover.pk\tDavid Guetta\n",
      "Without You (Feat. Usher) - www.SongsLover.pk\tDavid Guetta\n",
      "Right Now (Na Na Na) - Downloaded From www.SongsLover.com\tAkon - Downloaded From www.SongsLover.com\n",
      "Love Me Thoda Aur - DJMaza.Info\tArijit Singh & Monali Thakur\n",
      "Lonely - Downloaded From www.SongsLover.com\tAkon - Downloaded From www.SongsLover.com\n",
      "Love You Zindagi - www.9xmaza.Com\tAmit Trivedi, Jasleen Royal\n",
      "In The Name Of Love - Martin Garrix Ft.Bebe Rexha 320Kbps-(MyBigMp3.Com)\tMartin Garrix, Bebe Rexha\n",
      " Mad Love \t Sean Paul & David Guetta Ft. Becky G\n",
      "Waiting For Love [Www.Takseda.NeT]\tAvicii - Www.Takseda.NeT\n",
      "Somebody (feat. Drew Love) [FazMusic.Net]\tThe Chainsmokers [FazMusic.Net]\n",
      "Love Never Felt So Good\n",
      "As Long As You Love Me\n",
      "Same Old Love\n",
      "True Love\n",
      "Love Natural\n",
      "JENNIFER LOPEZ - Could This Be Love\n",
      "Love You Goodbye\n",
      "Summer Love\n",
      "Bye Bye Love\n",
      "Loved You First\n",
      "Love Me Again\n",
      "Love Me Like You Do - Ellie Goulding (Love Me Like You Do)\n",
      "Every Chance We Get We Run - www.SongsLover.pk\n",
      "Fell in love with my Best friend\n",
      "I Can Only Imagine - www.SongsLover.pk\n",
      "I Need Your Love (Feat. Calvin Harris)\n",
      " Love\n",
      "Little Bad Girl - www.SongsLover.pk\n",
      "Love Story\n",
      "Love You Like A Love Song\n",
      "Love-The-Way-You-Lie-Part-2\n",
      "She Wolf (Falling To Pieces) - www.SongsLover.pk\n",
      "Sweat - www.SongsLover.pk\n",
      "Titanium (Feat Sia) - www.SongsLover.pk\n",
      "Love Somebody\n",
      "Turn Me On (Feat. Nicki Minaj) - www.SongsLover.pk\n",
      "We Found Love\n",
      "Where Them Girls At - www.SongsLover.pk\n",
      "Wild One Two - www.SongsLover.pk\n",
      "Without You (Feat. Usher) - www.SongsLover.pk\n",
      "Right Now (Na Na Na) - Downloaded From www.SongsLover.com\n",
      "Love Me Thoda Aur - DJMaza.Info\n",
      "Lonely - Downloaded From www.SongsLover.com\n",
      "Maroon 5 - This Love\n",
      "Spag Heddy - Love On First Sine\n",
      "Love You Zindagi - www.9xmaza.Com\n",
      "Rihanna - We Found Love (Audio) ft. Calvin Harris\n",
      "In The Name Of Love - Martin Garrix Ft.Bebe Rexha 320Kbps-(MyBigMp3.Com)\n",
      " Mad Love \n",
      "Waiting For Love [Www.Takseda.NeT]\n",
      "Somebody (feat. Drew Love) [FazMusic.Net]\n"
     ]
    }
   ],
   "source": [
    "with open('songlist.txt', 'r') as file:\n",
    "    for line in file.readlines():\n",
    "        if line.lower().find(search_key) >= 0:\n",
    "            print(line[:-1])"
   ]
  },
  {
   "cell_type": "code",
   "execution_count": null,
   "metadata": {
    "collapsed": true
   },
   "outputs": [],
   "source": []
  }
 ],
 "metadata": {
  "kernelspec": {
   "display_name": "Python 3",
   "language": "python",
   "name": "python3"
  },
  "language_info": {
   "codemirror_mode": {
    "name": "ipython",
    "version": 3
   },
   "file_extension": ".py",
   "mimetype": "text/x-python",
   "name": "python",
   "nbconvert_exporter": "python",
   "pygments_lexer": "ipython3",
   "version": "3.6.5"
  }
 },
 "nbformat": 4,
 "nbformat_minor": 2
}
